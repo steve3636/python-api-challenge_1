{
 "cells": [
  {
   "cell_type": "code",
   "execution_count": 4,
   "id": "e0c81e31-baf1-4315-bb1d-80f49fea5f31",
   "metadata": {
    "tags": []
   },
   "outputs": [
    {
     "name": "stdout",
     "output_type": "stream",
     "text": [
      "Requirement already satisfied: citipy in c:\\users\\steve\\anaconda3\\lib\\site-packages (0.0.6)\n",
      "Requirement already satisfied: kdtree>=0.12 in c:\\users\\steve\\anaconda3\\lib\\site-packages (from citipy) (0.16)\n"
     ]
    }
   ],
   "source": [
    "!pip install citipy\n"
   ]
  },
  {
   "cell_type": "code",
   "execution_count": null,
   "id": "62ab0245-1f7a-4baf-b234-7b1e2fc7d221",
   "metadata": {},
   "outputs": [],
   "source": []
  }
 ],
 "metadata": {
  "kernelspec": {
   "display_name": "Python 3 (ipykernel)",
   "language": "python",
   "name": "python3"
  },
  "language_info": {
   "codemirror_mode": {
    "name": "ipython",
    "version": 3
   },
   "file_extension": ".py",
   "mimetype": "text/x-python",
   "name": "python",
   "nbconvert_exporter": "python",
   "pygments_lexer": "ipython3",
   "version": "3.11.3"
  }
 },
 "nbformat": 4,
 "nbformat_minor": 5
}
